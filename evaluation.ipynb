{
 "cells": [
  {
   "attachments": {},
   "cell_type": "markdown",
   "metadata": {},
   "source": [
    "# Experiments\n",
    "\n",
    "For a full description of the experimental setup, see the [documentation](../docs/experimental-setup.md)."
   ]
  },
  {
   "cell_type": "code",
   "execution_count": 1,
   "metadata": {},
   "outputs": [],
   "source": [
    "# General setup\n",
    "import numpy as np\n",
    "import matplotlib.pyplot as plt\n",
    "import pandas as pd\n",
    "\n",
    "# Prepare a DataFrame to store the results\n",
    "results = pd.DataFrame(columns=[\"scenario\", \"preference_criteria\", \"objectives\", \"solver\", \"utility\"])"
   ]
  },
  {
   "attachments": {},
   "cell_type": "markdown",
   "metadata": {},
   "source": [
    "## Scenario 1: Preference Criteria are Superset of Objectives (SUP)\n",
    "\n",
    "In this first scenario, we evaluate the maximum utility of the different adaptation techniques, if the objectives do not include all preference criteria in the true preference function."
   ]
  },
  {
   "cell_type": "code",
   "execution_count": 2,
   "metadata": {},
   "outputs": [],
   "source": [
    "import experiments.user\n",
    "import experiments.problem\n",
    "\n",
    "# Get MOO problem\n",
    "SCENARIO_1_OBJECTIVES = [\"neck\", \"shoulder\"]\n",
    "problem = experiments.problem.LayoutProblem(\n",
    "    objectives=SCENARIO_1_OBJECTIVES\n",
    ")\n",
    "\n",
    "# Get utility function\n",
    "SCENARIO_1_PREFERENCE_CRITERIA = [\"neck\", \"shoulder\", \"torso\"]\n",
    "get_utility = experiments.user.get_utility_function(\n",
    "    objectives=SCENARIO_1_PREFERENCE_CRITERIA,\n",
    "    weights=1/3,\n",
    ")"
   ]
  },
  {
   "attachments": {},
   "cell_type": "markdown",
   "metadata": {},
   "source": [
    "### Our Solver: U-NSGA-III w/ AASF\n",
    "\n",
    "Our suggested solver uses the genetic U-NSGA-III algorithm with the AASF decomposition technique."
   ]
  },
  {
   "cell_type": "code",
   "execution_count": 3,
   "metadata": {},
   "outputs": [
    {
     "name": "stdout",
     "output_type": "stream",
     "text": [
      "Adaptations (Ours): 5 adaptations\n",
      "Utilities (Ours): [0.8700231379722703, 0.8802704924179034, 0.8461635646145993, 0.8910355494073863, 0.8623806963310363]\n",
      "Max Utility Adaptation (Ours): Layout(items=[Element(id='0', position=Position(x=-15.606332210073283, y=-13.628113330232878, z=-19.79615045376869), rotation=Rotation(x=0.43683948624245916, y=0.026316407425051758, z=0.12167580261783005, w=0.03575771701421536))])\n",
      "Max Utility (Ours): 0.8910355494073863\n"
     ]
    }
   ],
   "source": [
    "import experiments.pareto_solver\n",
    "\n",
    "def get_utilities_of_pareto_optimal_adaptations(problem, get_utility, verbose = False):\n",
    "    \"\"\"Get the utilities of Pareto optimal adaptations.\"\"\"\n",
    "    pareto_solver = experiments.pareto_solver.ParetoSolver(problem, pop=100, n_gen=100, seed=42)\n",
    "    pareto_front_adaptations = pareto_solver.get_adaptations()\n",
    "    utilities = [get_utility(adaptation) for adaptation in pareto_front_adaptations]\n",
    "    if verbose:\n",
    "        print(f\"Adaptations (Ours): {len(pareto_front_adaptations)} adaptations\")\n",
    "        print(\"Utilities (Ours):\", utilities)\n",
    "        print(\"Max Utility Adaptation (Ours):\", pareto_front_adaptations[np.argmax(utilities)])\n",
    "        print(\"Max Utility (Ours):\", np.max(utilities))\n",
    "    return utilities\n",
    "\n",
    "utilities_for_pareto_front_adaptations = get_utilities_of_pareto_optimal_adaptations(problem, get_utility, verbose=True)\n",
    "results = results.append({\n",
    "    \"scenario\": \"SUP\",\n",
    "    \"preference_criteria\": \", \".join(SCENARIO_1_PREFERENCE_CRITERIA),\n",
    "    \"objectives\": \", \".join(SCENARIO_1_OBJECTIVES),\n",
    "    \"solver\": \"Ours\",\n",
    "    \"utility\": np.max(utilities_for_pareto_front_adaptations),\n",
    "}, ignore_index=True)"
   ]
  },
  {
   "attachments": {},
   "cell_type": "markdown",
   "metadata": {},
   "source": [
    "### Baseline Solver 1: Static Weighted Sum (WS)\n",
    "\n",
    "The first baseline solver is a static weighted sum with equal weights."
   ]
  },
  {
   "cell_type": "code",
   "execution_count": 4,
   "metadata": {},
   "outputs": [
    {
     "name": "stdout",
     "output_type": "stream",
     "text": [
      "Equally Weighted Sum Adaptation: Layout(items=[Element(id='0', position=Position(x=2.360711458713962, y=-19.79942493019234, z=-4.159182935835284), rotation=Rotation(x=0.1789992668156376, y=0.8194682865399235, z=0.362520192557711, w=0.012605916234388281))])\n",
      "Equally Weighted Sum Utility: 0.8461635646145993\n"
     ]
    }
   ],
   "source": [
    "import experiments.weighted_sum_solver\n",
    "\n",
    "def get_utility_of_equally_weighted_sum_adaptation(problem, get_utility, verbose = False):\n",
    "    \"\"\"Get the utility of the equally weighted sum adaptation.\"\"\"\n",
    "    equally_weighted_sum_solver = experiments.weighted_sum_solver.WeightedSumSolver(problem, weights=1/problem.n_obj, seed=42)\n",
    "    equally_weighted_sum_adaptation = equally_weighted_sum_solver.get_adaptations()[0]\n",
    "    equally_weighted_sum_utility = get_utility(equally_weighted_sum_adaptation)\n",
    "    if verbose:\n",
    "        print(\"Equally Weighted Sum Adaptation:\", equally_weighted_sum_adaptation)\n",
    "        print(\"Equally Weighted Sum Utility:\", equally_weighted_sum_utility)\n",
    "    return equally_weighted_sum_utility\n",
    "\n",
    "equally_weighted_sum_utility = get_utility_of_equally_weighted_sum_adaptation(problem, get_utility, verbose=True)\n",
    "results = results.append({\n",
    "    \"scenario\": \"SUP\",\n",
    "    \"preference_criteria\": \", \".join(SCENARIO_1_PREFERENCE_CRITERIA),\n",
    "    \"objectives\": \", \".join(SCENARIO_1_OBJECTIVES),\n",
    "    \"solver\": \"WS\",\n",
    "    \"utility\": equally_weighted_sum_utility,\n",
    "}, ignore_index=True)"
   ]
  },
  {
   "attachments": {},
   "cell_type": "markdown",
   "metadata": {},
   "source": [
    "### Baseline Solver 2: Multiple Single-Objective Solvers (MSO)\n",
    "\n",
    "The second baseline solver is a single-objective solver that is used for all objectives in the utility function."
   ]
  },
  {
   "attachments": {},
   "cell_type": "markdown",
   "metadata": {},
   "source": [
    "### Baseline Solver 3: Random Solver (RND)\n",
    "\n",
    "The third baseline solver is a random solver that returns a random adaptation."
   ]
  },
  {
   "cell_type": "code",
   "execution_count": 5,
   "metadata": {},
   "outputs": [
    {
     "name": "stdout",
     "output_type": "stream",
     "text": [
      "Adaptation (RND): Layout(items=[Element(id='0', position=Position(x=10.958241942238534, y=-2.4448624099179064, z=14.343916796455296), rotation=Rotation(x=0.6973680290593639, y=0.09417734788764953, z=0.9756223516367559, w=0.761139701990353))])\n",
      "Utility (RND): 0.9106866996687881\n"
     ]
    }
   ],
   "source": [
    "import experiments.random_solver\n",
    "\n",
    "def get_utility_of_random_adaptation(problem, get_utility, verbose = False):\n",
    "    \"\"\"Get the utility of a random adaptation.\"\"\"\n",
    "    random_solver = experiments.random_solver.RandomSolver(problem=problem, seed=42)\n",
    "    random_adaptation = random_solver.get_adaptations(n_adaptations=1)[0]\n",
    "    utility = get_utility(random_adaptation)\n",
    "    if verbose:\n",
    "        print(\"Adaptation (RND):\", random_adaptation)\n",
    "        print(\"Utility (RND):\", utility)\n",
    "    return utility\n",
    "\n",
    "utility_for_random_adaptation = get_utility_of_random_adaptation(problem, get_utility, verbose=True)"
   ]
  },
  {
   "attachments": {},
   "cell_type": "markdown",
   "metadata": {},
   "source": [
    "We can also run the random solver a few times and calculate the average utility of the returned solutions."
   ]
  },
  {
   "cell_type": "code",
   "execution_count": 6,
   "metadata": {},
   "outputs": [
    {
     "name": "stdout",
     "output_type": "stream",
     "text": [
      "Expected Utility (RND): 0.8697459788567925\n"
     ]
    }
   ],
   "source": [
    "def get_expected_utility_of_random_adaptation(problem, get_utility, n_trials = 100, verbose = False):\n",
    "    \"\"\"Get the expected utility of a random adaptation.\"\"\"\n",
    "    random_solver = experiments.random_solver.RandomSolver(problem=problem, seed=42)\n",
    "    random_adaptations = random_solver.get_adaptations(n_adaptations=n_trials)\n",
    "    utilities = [get_utility(random_adaptation) for random_adaptation in random_adaptations]\n",
    "    if verbose:\n",
    "        print(\"Expected Utility (RND):\", np.average(utilities))\n",
    "    return np.average(utilities)\n",
    "\n",
    "expected_utility_for_random_adaptation = get_expected_utility_of_random_adaptation(problem, get_utility, n_trials=100, verbose=True)\n",
    "results = results.append({\n",
    "    \"scenario\": \"SUP\",\n",
    "    \"preference_criteria\": \", \".join(SCENARIO_1_PREFERENCE_CRITERIA),\n",
    "    \"objectives\": \", \".join(SCENARIO_1_OBJECTIVES),\n",
    "    \"solver\": \"RND\",\n",
    "    \"utility\": expected_utility_for_random_adaptation,\n",
    "}, ignore_index=True)\n"
   ]
  },
  {
   "attachments": {},
   "cell_type": "markdown",
   "metadata": {},
   "source": [
    "### Results\n",
    "\n",
    "The results of the experiments are shown in the following table."
   ]
  },
  {
   "cell_type": "code",
   "execution_count": 7,
   "metadata": {},
   "outputs": [
    {
     "data": {
      "text/html": [
       "<div>\n",
       "<style scoped>\n",
       "    .dataframe tbody tr th:only-of-type {\n",
       "        vertical-align: middle;\n",
       "    }\n",
       "\n",
       "    .dataframe tbody tr th {\n",
       "        vertical-align: top;\n",
       "    }\n",
       "\n",
       "    .dataframe thead th {\n",
       "        text-align: right;\n",
       "    }\n",
       "</style>\n",
       "<table border=\"1\" class=\"dataframe\">\n",
       "  <thead>\n",
       "    <tr style=\"text-align: right;\">\n",
       "      <th></th>\n",
       "      <th>scenario</th>\n",
       "      <th>preference_criteria</th>\n",
       "      <th>objectives</th>\n",
       "      <th>solver</th>\n",
       "      <th>utility</th>\n",
       "    </tr>\n",
       "  </thead>\n",
       "  <tbody>\n",
       "    <tr>\n",
       "      <th>0</th>\n",
       "      <td>SUP</td>\n",
       "      <td>neck, shoulder, torso</td>\n",
       "      <td>neck, shoulder</td>\n",
       "      <td>Ours</td>\n",
       "      <td>0.891036</td>\n",
       "    </tr>\n",
       "    <tr>\n",
       "      <th>2</th>\n",
       "      <td>SUP</td>\n",
       "      <td>neck, shoulder, torso</td>\n",
       "      <td>neck, shoulder</td>\n",
       "      <td>RND</td>\n",
       "      <td>0.869746</td>\n",
       "    </tr>\n",
       "    <tr>\n",
       "      <th>1</th>\n",
       "      <td>SUP</td>\n",
       "      <td>neck, shoulder, torso</td>\n",
       "      <td>neck, shoulder</td>\n",
       "      <td>WS</td>\n",
       "      <td>0.846164</td>\n",
       "    </tr>\n",
       "  </tbody>\n",
       "</table>\n",
       "</div>"
      ],
      "text/plain": [
       "  scenario    preference_criteria      objectives solver   utility\n",
       "0      SUP  neck, shoulder, torso  neck, shoulder   Ours  0.891036\n",
       "2      SUP  neck, shoulder, torso  neck, shoulder    RND  0.869746\n",
       "1      SUP  neck, shoulder, torso  neck, shoulder     WS  0.846164"
      ]
     },
     "execution_count": 7,
     "metadata": {},
     "output_type": "execute_result"
    }
   ],
   "source": [
    "# Show results\n",
    "results[results[\"scenario\"] == \"SUP\"].sort_values(by=[\"scenario\", \"utility\"], ascending=False)"
   ]
  },
  {
   "cell_type": "code",
   "execution_count": 81,
   "metadata": {},
   "outputs": [
    {
     "data": {
      "image/png": "[encoded data removed]",
      "text/plain": [
       "<Figure size 800x600 with 1 Axes>"
      ]
     },
     "metadata": {},
     "output_type": "display_data"
    }
   ],
   "source": [
    "# Visualize results for scenario 1 in a horizontal bar chart\n",
    "def visualize_results(data, title):\n",
    "    \"\"\"Visualize the results for scenario 1.\"\"\"\n",
    "    # Get figure\n",
    "    fig, ax = plt.subplots(figsize=(8, 6))\n",
    "    # Set title\n",
    "    ax.set_title(title, fontweight=\"bold\", pad=16)\n",
    "    # Set x-axis\n",
    "    ax.set_xlabel(\"Utility\")\n",
    "    # Set y-axis\n",
    "    # ax.set_ylabel(\"Solver\")\n",
    "    # Set grid\n",
    "    ax.set_axisbelow(True)\n",
    "    ax.grid(color='gray', linestyle='dashed', axis=\"x\", alpha=0.5)\n",
    "    # Set limits\n",
    "    ax.set_xlim(0, 1)\n",
    "    # Set spines to grey\n",
    "    ax.spines[\"bottom\"].set_color('lightgray')\n",
    "    ax.spines[\"top\"].set_color('lightgray')\n",
    "    ax.spines[\"right\"].set_color('lightgray')\n",
    "    ax.spines[\"left\"].set_color('k')\n",
    "    # Set the left spine to be thick\n",
    "    ax.spines[\"left\"].set_linewidth(1.1)\n",
    "    # Set the tick labels and axis labels color to grey\n",
    "    ax.tick_params(axis=\"x\", which=\"both\", labelcolor='gray', color='lightgray')\n",
    "    # Plot bars\n",
    "    hatches = [\"//\", \"||\", \"xx\", \"++\", \"oo\", \"**\"]\n",
    "    ax.barh(data[\"solver\"], data[\"utility\"],\n",
    "        edgecolor=\"k\",\n",
    "        color=\"none\",\n",
    "        hatch=data[\"solver\"].map(dict(zip(data[\"solver\"].unique(), hatches))),\n",
    "    )\n",
    "    # Set y-axis\n",
    "    ax.set_yticks(data[\"solver\"])\n",
    "    ax.set_yticklabels(data[\"solver\"])\n",
    "    # Set labels\n",
    "    for i, (solver, utility) in enumerate(zip(data[\"solver\"], data[\"utility\"])):\n",
    "        ax.text(utility + 0.01, i, f\"{utility:.3f}\", ha=\"left\", va=\"center\", color=\"k\")\n",
    "    # Return figure\n",
    "    return fig\n",
    "\n",
    "def visualize_scenario_1(results):\n",
    "    \"\"\"Visualize the results for scenario 1.\"\"\"\n",
    "    # Get data\n",
    "    data = results[results[\"scenario\"] == \"SUP\"].sort_values(by=[\"scenario\", \"utility\"], ascending=True)\n",
    "    # Get figure\n",
    "    fig = visualize_results(data, \"Scenario 1 (SUP)\")\n",
    "    # Return figure\n",
    "    return fig\n",
    "\n",
    "fig_scenario_1 = visualize_scenario_1(results)\n",
    "plt.show(fig_scenario_1)\n"
   ]
  },
  {
   "cell_type": "code",
   "execution_count": null,
   "metadata": {},
   "outputs": [],
   "source": []
  }
 ],
 "metadata": {
  "kernelspec": {
   "display_name": "auit-pareto-solver",
   "language": "python",
   "name": "python3"
  },
  "language_info": {
   "codemirror_mode": {
    "name": "ipython",
    "version": 3
   },
   "file_extension": ".py",
   "mimetype": "text/x-python",
   "name": "python",
   "nbconvert_exporter": "python",
   "pygments_lexer": "ipython3",
   "version": "3.9.16"
  },
  "orig_nbformat": 4,
  "vscode": {
   "interpreter": {
    "hash": "723f6e920e80d74c4c73d386b043e62bf1e099e4c355db57a2ba67b22de41e87"
   }
  }
 },
 "nbformat": 4,
 "nbformat_minor": 2
}
