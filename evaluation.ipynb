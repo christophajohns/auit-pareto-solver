{
 "cells": [
  {
   "attachments": {},
   "cell_type": "markdown",
   "metadata": {},
   "source": [
    "# Experiments\n",
    "\n",
    "For a full description of the experimental setup, see the [documentation](../docs/experimental-setup.md)."
   ]
  },
  {
   "attachments": {},
   "cell_type": "markdown",
   "metadata": {},
   "source": [
    "## Scenario 1: Preference Criteria are Superset of Objectives (SUP)\n",
    "\n",
    "In this first scenario, we evaluate the maximum utility of the different adaptation techniques, if the objectives do not include all preference criteria in the true preference function."
   ]
  },
  {
   "cell_type": "code",
   "execution_count": 1,
   "metadata": {},
   "outputs": [],
   "source": [
    "import experiments.user\n",
    "import experiments.problem\n",
    "\n",
    "# Get MOO problem\n",
    "problem = experiments.problem.LayoutProblem(\n",
    "    objectives=[\"neck\", \"shoulder\"]\n",
    ")\n",
    "\n",
    "# Get utility function\n",
    "get_utility = experiments.user.get_utility_function(\n",
    "    objectives=[\"neck\", \"shoulder\", \"torso\"],\n",
    "    weights=1/3,\n",
    ")"
   ]
  },
  {
   "attachments": {},
   "cell_type": "markdown",
   "metadata": {},
   "source": [
    "### Solver 1: Static Weighted Sum (WS)\n",
    "\n",
    "The first baseline solver is a static weighted sum with equal weights."
   ]
  },
  {
   "attachments": {},
   "cell_type": "markdown",
   "metadata": {},
   "source": [
    "### Solver 2: Multiple Single-Objective Solvers (MSO)\n",
    "\n",
    "The second baseline solver is a single-objective solver that is used for all objectives in the utility function."
   ]
  },
  {
   "attachments": {},
   "cell_type": "markdown",
   "metadata": {},
   "source": [
    "### Solver 3: Random Solver (RND)\n",
    "\n",
    "The third baseline solver is a random solver that returns a random adaptation."
   ]
  },
  {
   "cell_type": "code",
   "execution_count": 2,
   "metadata": {},
   "outputs": [
    {
     "name": "stdout",
     "output_type": "stream",
     "text": [
      "Adaptation: Layout(items=[Element(id='0', position=Position(x=-5.9041222378988465, y=19.10658436635108, z=-13.102116430073902), rotation=Rotation(x=0.31917397763777033, y=0.9208597684866152, z=0.7093457607895552, w=0.8246657168323124))])\n",
      "Utility (RND): 0.8180270146202865\n"
     ]
    }
   ],
   "source": [
    "import experiments.random_solver\n",
    "\n",
    "random_adaptation = experiments.random_solver.get_random_adaptations(problem=problem, n_adaptations=1)\n",
    "random_utility = get_utility(random_adaptation)\n",
    "\n",
    "print(\"Adaptation:\", random_adaptation)\n",
    "print(\"Utility (RND):\", random_utility)"
   ]
  }
 ],
 "metadata": {
  "kernelspec": {
   "display_name": "auit-pareto-solver",
   "language": "python",
   "name": "python3"
  },
  "language_info": {
   "codemirror_mode": {
    "name": "ipython",
    "version": 3
   },
   "file_extension": ".py",
   "mimetype": "text/x-python",
   "name": "python",
   "nbconvert_exporter": "python",
   "pygments_lexer": "ipython3",
   "version": "3.9.16"
  },
  "orig_nbformat": 4,
  "vscode": {
   "interpreter": {
    "hash": "723f6e920e80d74c4c73d386b043e62bf1e099e4c355db57a2ba67b22de41e87"
   }
  }
 },
 "nbformat": 4,
 "nbformat_minor": 2
}
