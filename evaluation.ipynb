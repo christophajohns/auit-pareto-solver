{
 "cells": [
  {
   "attachments": {},
   "cell_type": "markdown",
   "metadata": {},
   "source": [
    "# Experiments\n",
    "\n",
    "For a full description of the experimental setup, see the [documentation](../docs/experimental-setup.md)."
   ]
  },
  {
   "attachments": {},
   "cell_type": "markdown",
   "metadata": {},
   "source": [
    "## Scenario 1: Preference Criteria are Superset of Objectives (SUP)\n",
    "\n",
    "In this first scenario, we evaluate the maximum utility of the different adaptation techniques, if the objectives do not include all preference criteria in the true preference function."
   ]
  },
  {
   "cell_type": "code",
   "execution_count": 1,
   "metadata": {},
   "outputs": [],
   "source": [
    "import experiments.user\n",
    "import experiments.problem\n",
    "\n",
    "# Get MOO problem\n",
    "problem = experiments.problem.LayoutProblem(\n",
    "    objectives=[\"neck\", \"shoulder\"]\n",
    ")\n",
    "\n",
    "# Get utility function\n",
    "get_utility = experiments.user.get_utility_function(\n",
    "    objectives=[\"neck\", \"shoulder\", \"torso\"],\n",
    "    weights=1/3,\n",
    ")"
   ]
  },
  {
   "attachments": {},
   "cell_type": "markdown",
   "metadata": {},
   "source": [
    "### Our Solver: U-NSGA-III w/ AASF\n",
    "\n",
    "Our suggested solver uses the genetic U-NSGA-III algorithm with the AASF decomposition technique."
   ]
  },
  {
   "cell_type": "code",
   "execution_count": 2,
   "metadata": {},
   "outputs": [
    {
     "name": "stdout",
     "output_type": "stream",
     "text": [
      "Adaptations (Ours): 5 adaptations\n",
      "Utilities (Ours): [0.8700231379722703, 0.8802704924179034, 0.8461635646145993, 0.8910355494073863, 0.8623806963310363]\n",
      "Max Utility Adaptation (Ours): Layout(items=[Element(id='0', position=Position(x=-15.606332210073283, y=-13.628113330232878, z=-19.79615045376869), rotation=Rotation(x=0.43683948624245916, y=0.026316407425051758, z=0.12167580261783005, w=0.03575771701421536))])\n",
      "Max Utility (Ours): 0.8910355494073863\n"
     ]
    }
   ],
   "source": [
    "import experiments.pareto_solver\n",
    "import numpy as np\n",
    "\n",
    "def get_utilities_of_pareto_optimal_adaptations(problem, get_utility, verbose = False):\n",
    "    \"\"\"Get the utilities of Pareto optimal adaptations.\"\"\"\n",
    "    pareto_solver = experiments.pareto_solver.ParetoSolver(problem, pop=100, n_gen=100, seed=42)\n",
    "    pareto_front_adaptations = pareto_solver.get_adaptations()\n",
    "    utilities = [get_utility(adaptation) for adaptation in pareto_front_adaptations]\n",
    "    if verbose:\n",
    "        print(f\"Adaptations (Ours): {len(pareto_front_adaptations)} adaptations\")\n",
    "        print(\"Utilities (Ours):\", utilities)\n",
    "        print(\"Max Utility Adaptation (Ours):\", pareto_front_adaptations[np.argmax(utilities)])\n",
    "        print(\"Max Utility (Ours):\", np.max(utilities))\n",
    "    return utilities\n",
    "\n",
    "utilities_for_pareto_front_adaptations = get_utilities_of_pareto_optimal_adaptations(problem, get_utility, verbose=True)"
   ]
  },
  {
   "attachments": {},
   "cell_type": "markdown",
   "metadata": {},
   "source": [
    "### Baseline Solver 1: Static Weighted Sum (WS)\n",
    "\n",
    "The first baseline solver is a static weighted sum with equal weights."
   ]
  },
  {
   "attachments": {},
   "cell_type": "markdown",
   "metadata": {},
   "source": [
    "### Baseline Solver 2: Multiple Single-Objective Solvers (MSO)\n",
    "\n",
    "The second baseline solver is a single-objective solver that is used for all objectives in the utility function."
   ]
  },
  {
   "attachments": {},
   "cell_type": "markdown",
   "metadata": {},
   "source": [
    "### Baseline Solver 3: Random Solver (RND)\n",
    "\n",
    "The third baseline solver is a random solver that returns a random adaptation."
   ]
  },
  {
   "cell_type": "code",
   "execution_count": 3,
   "metadata": {},
   "outputs": [
    {
     "name": "stdout",
     "output_type": "stream",
     "text": [
      "Adaptation (RND): Layout(items=[Element(id='0', position=Position(x=10.958241942238534, y=-2.4448624099179064, z=14.343916796455296), rotation=Rotation(x=0.6973680290593639, y=0.09417734788764953, z=0.9756223516367559, w=0.761139701990353))])\n",
      "Utility (RND): 0.9106866996687881\n"
     ]
    }
   ],
   "source": [
    "import experiments.random_solver\n",
    "\n",
    "def get_utility_of_random_adaptation(problem, get_utility, verbose = False):\n",
    "    \"\"\"Get the utility of a random adaptation.\"\"\"\n",
    "    random_solver = experiments.random_solver.RandomSolver(problem=problem, seed=42)\n",
    "    random_adaptation = random_solver.get_adaptations(n_adaptations=1)\n",
    "    utility = get_utility(random_adaptation)\n",
    "    if verbose:\n",
    "        print(\"Adaptation (RND):\", random_adaptation)\n",
    "        print(\"Utility (RND):\", utility)\n",
    "    return utility\n",
    "\n",
    "utility_for_random_adaptation = get_utility_of_random_adaptation(problem, get_utility, verbose=True)"
   ]
  },
  {
   "cell_type": "code",
   "execution_count": null,
   "metadata": {},
   "outputs": [],
   "source": []
  }
 ],
 "metadata": {
  "kernelspec": {
   "display_name": "auit-pareto-solver",
   "language": "python",
   "name": "python3"
  },
  "language_info": {
   "codemirror_mode": {
    "name": "ipython",
    "version": 3
   },
   "file_extension": ".py",
   "mimetype": "text/x-python",
   "name": "python",
   "nbconvert_exporter": "python",
   "pygments_lexer": "ipython3",
   "version": "3.9.16"
  },
  "orig_nbformat": 4,
  "vscode": {
   "interpreter": {
    "hash": "723f6e920e80d74c4c73d386b043e62bf1e099e4c355db57a2ba67b22de41e87"
   }
  }
 },
 "nbformat": 4,
 "nbformat_minor": 2
}
