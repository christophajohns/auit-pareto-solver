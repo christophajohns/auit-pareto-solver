{
 "cells": [
  {
   "attachments": {},
   "cell_type": "markdown",
   "metadata": {},
   "source": [
    "# Experiments\n",
    "\n",
    "For a full description of the experimental setup, see the [documentation](../docs/experimental-setup.md)."
   ]
  },
  {
   "attachments": {},
   "cell_type": "markdown",
   "metadata": {},
   "source": [
    "## Scenario 1: Preference Criteria are Superset of Objectives (SUP)\n",
    "\n",
    "In this first scenario, we evaluate the maximum utility of the different adaptation techniques, if the objectives do not include all preference criteria in the true preference function."
   ]
  },
  {
   "cell_type": "code",
   "execution_count": 2,
   "metadata": {},
   "outputs": [],
   "source": [
    "import experiments.user\n",
    "\n",
    "# Get utility function\n",
    "get_utility = experiments.user.get_utility_function(\n",
    "    objectives=[\"neck\", \"shoulder\", \"torso\"],\n",
    "    weights=1/3,\n",
    ")"
   ]
  },
  {
   "cell_type": "code",
   "execution_count": null,
   "metadata": {},
   "outputs": [],
   "source": []
  }
 ],
 "metadata": {
  "kernelspec": {
   "display_name": "auit-pareto-solver",
   "language": "python",
   "name": "python3"
  },
  "language_info": {
   "codemirror_mode": {
    "name": "ipython",
    "version": 3
   },
   "file_extension": ".py",
   "mimetype": "text/x-python",
   "name": "python",
   "nbconvert_exporter": "python",
   "pygments_lexer": "ipython3",
   "version": "3.9.16"
  },
  "orig_nbformat": 4,
  "vscode": {
   "interpreter": {
    "hash": "723f6e920e80d74c4c73d386b043e62bf1e099e4c355db57a2ba67b22de41e87"
   }
  }
 },
 "nbformat": 4,
 "nbformat_minor": 2
}
